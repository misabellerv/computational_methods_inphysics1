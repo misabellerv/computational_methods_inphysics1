{
  "nbformat": 4,
  "nbformat_minor": 0,
  "metadata": {
    "colab": {
      "name": "integrals.ipynb",
      "provenance": []
    },
    "kernelspec": {
      "name": "python3",
      "display_name": "Python 3"
    },
    "language_info": {
      "name": "python"
    }
  },
  "cells": [
    {
      "cell_type": "markdown",
      "source": [
        "## Integração: Método dos trapézios e método de simpson\n",
        "Código simples para que seja possível calcular uma integral definida de uma função bem definida pelo método dos trapézios e pelo simpson"
      ],
      "metadata": {
        "id": "zluaL2uqrywy"
      }
    },
    {
      "cell_type": "code",
      "source": [
        "import numpy as np"
      ],
      "metadata": {
        "id": "yJnKkqpzsI_7"
      },
      "execution_count": null,
      "outputs": []
    },
    {
      "cell_type": "code",
      "execution_count": 2,
      "metadata": {
        "id": "4JR635ozrvbS"
      },
      "outputs": [],
      "source": [
        "def f(x):\n",
        "    return 1/np.sqrt(2*np.pi) * np.exp(-(x**2)/2)\n",
        "\n",
        "\n",
        "def trapezio(f, a, b, k):\n",
        "    soma = 0\n",
        "    for j in range(1, 2**k):\n",
        "        soma = soma + f(a + j * (b-a)/2**k)\n",
        "    tk = (b-a)/2**k * 1/2 * (f(a) + f(b) + 2 * soma)\n",
        "    return tk"
      ]
    },
    {
      "cell_type": "code",
      "source": [
        "def integrals(f, trapezio):\n",
        "  for k in range(20):\n",
        "      t0 = trapezio(f ,-2, 2, k)\n",
        "      tk = trapezio(f, -2, 2, k+1)\n",
        "      precisao = 1.e-6\n",
        "      if np.fabs(tk-t0) < precisao:\n",
        "          print (\"o valor da integral pelo método dos trapézios é\",tk,\"e o k utilizado foi de\", k+1)\n",
        "          break\n",
        "      k = k +1\n",
        "\n",
        "  #para o método de simpson, fazemos a mesma lógica, utilizando a fórmula\n",
        "  #de simpson em função do método dos trapézios, definindo um sk e um s0\n",
        "  #para fazer a diferença de convergência\n",
        "\n",
        "\n",
        "  for k in range(2, 20):\n",
        "      s0 = trapezio(f,-2, 2,k) + ((trapezio(f,-2, 2,k) - trapezio(f,-2, 2,k-1))/3)\n",
        "      sk = trapezio(f,-2, 2,k+1) + ((trapezio(f,-2, 2,k+1) - trapezio(f,-2,2,k))/3)\n",
        "      precisao = 1.e-6\n",
        "      if np.fabs(sk - s0) < precisao:\n",
        "          print(\"o valor da integral pelo método de simpson é\", sk, \"e o k utilizado foi de\", k+1)\n",
        "          break\n",
        "      k = k + 1"
      ],
      "metadata": {
        "id": "u1ES8qWWsMru"
      },
      "execution_count": 4,
      "outputs": []
    },
    {
      "cell_type": "code",
      "source": [
        "integrals(f,trapezio)"
      ],
      "metadata": {
        "colab": {
          "base_uri": "https://localhost:8080/"
        },
        "id": "1VNfKrMKs7m4",
        "outputId": "514a36a5-6153-4158-f251-32f6060f4935"
      },
      "execution_count": 5,
      "outputs": [
        {
          "output_type": "stream",
          "name": "stdout",
          "text": [
            "o valor da integral pelo método dos trapézios é 0.9544994614914554 e o k utilizado foi de 10\n",
            "o valor da integral pelo método de simpson é 0.9544997177193861 e o k utilizado foi de 6\n"
          ]
        }
      ]
    },
    {
      "cell_type": "markdown",
      "source": [
        "''' Uma maneira de otimizar o tempo calculando a integral da Gaussiana utilizando a simetria, é olhar para a simetria\n",
        "da Gaussiana, tal que esta pode ser dividida entre 2 partes iguais (-2 até 0 e 0 até 2). Para fazer com que\n",
        "o programa calcule menos trapézios, e assim rode mais rápido, basta que multipliquemos por 2 o valor da\n",
        "integral gaussiana nos limites de 0 a 2.'''"
      ],
      "metadata": {
        "id": "Rf5SAt5osaaf"
      }
    }
  ]
}