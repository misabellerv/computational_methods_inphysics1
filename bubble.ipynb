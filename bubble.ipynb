{
  "nbformat": 4,
  "nbformat_minor": 0,
  "metadata": {
    "colab": {
      "name": "bubble.ipynb",
      "provenance": []
    },
    "kernelspec": {
      "name": "python3",
      "display_name": "Python 3"
    },
    "language_info": {
      "name": "python"
    }
  },
  "cells": [
    {
      "cell_type": "markdown",
      "source": [
        "# Using Euler's method to estimate a bubble's velocity"
      ],
      "metadata": {
        "id": "VW3YAZPPt46S"
      }
    },
    {
      "cell_type": "markdown",
      "source": [
        "There's a differential equation wich describes an air bubble's velocity rising up a shampoo bottle: \\\\\n",
        "$\\dfrac{dv}{dt} = \\dfrac{\\rho_{x} - \\rho_{air}g}{\\rho_{air}} - \\dfrac{b v^{n}}{\\dfrac{4}{3}\\pi R^{3} \\rho_{air}}$ \\\\\n",
        "That's not a trivial differential equation to solve! It's better if we use a computational method to find the description of $v(t)$ as an approximation. Euler method will be used here."
      ],
      "metadata": {
        "id": "VDKzZWm1t24D"
      }
    },
    {
      "cell_type": "markdown",
      "source": [
        "$\\rho_{air}$ is air density \\\\\n",
        "$bv^{n}$ is the viscous friction force between the bubble and the liquid\n",
        "Let's consider some parametrs: \\\\\n",
        "$\\rho_{air} = 1.25e-6$ $g mm^{-3}$ \\\\\n",
        "$\\rho_{1.03e-{3}}$ $gmm^{-3}$ \\\\\n",
        "$g = 9.78e{3} mms^{-2}$ \\\\\n",
        "n = 1.7 \\\\\n",
        "$b = 420 gs^{-0.3} mm^{-0.7}$ \\\\\n",
        "R = 2.5mm \\\\\n",
        "This method will be computed for $0 < t < 10^{-7}$ with steps of $10^{-9}$"
      ],
      "metadata": {
        "id": "BHyKGJ0fvd8W"
      }
    },
    {
      "cell_type": "code",
      "source": [
        "import numpy as np\n",
        "import matplotlib.pyplot as plt"
      ],
      "metadata": {
        "id": "PIRfY0GEx0pg"
      },
      "execution_count": 1,
      "outputs": []
    },
    {
      "cell_type": "markdown",
      "source": [
        "I'll use the generic euler function, which works both for systems and for\n",
        "a single differential equation, which is the case here, as we only have one equation\n",
        "of the derivative of the velocity with respect to constants and a power of the velocity.\n",
        "we will need to solve the system just for velocity, since we already have the\n",
        "initial condition $v(0) = 0$"
      ],
      "metadata": {
        "id": "pDU_oq4fx_z_"
      }
    },
    {
      "cell_type": "code",
      "source": [
        "def Euler(f, xi, ti, tf, n):\n",
        "    t = np.zeros(n)\n",
        "    x = np.zeros((n, len(xi)))\n",
        "\n",
        "    #o x e t serão arrays para plotarmos os gráficos posteriormente\n",
        "\n",
        "    if isinstance(xi, (float, int)):\n",
        "        x = np.zeros(n)\n",
        "    else:\n",
        "        neq = len(xi)\n",
        "        x = np.zeros((n, neq))\n",
        "    x[0] = xi\n",
        "    t[0] = ti\n",
        "    h = (tf-ti)/float(n)\n",
        "    for k in range(n-1):\n",
        "\n",
        "        #aqui estamos printando só x[k,0] para que se refira apenas à equação da velocidade\n",
        "        #esses são os pontos de x no gráfico, e de tempo para plotar\n",
        "        #questão b)imprimir os valoes de v e t com os passos de 10^-9\n",
        "\n",
        "        print(x[k,0], t[k])\n",
        "        t[k+1] = t[k] + h\n",
        "        x[k+1] = x[k] + h*f(x[k], t[k])\n",
        "\n",
        "        #veja que v e t dependem do passo à medida que são printados\n",
        "\n",
        "    return x, t\n",
        "#esta função abaixo, temos as derivadas com relação ao valor inicial\n",
        "\n",
        "\n",
        "def f(x,t):\n",
        "\n",
        "    #definirei aqui as constantes a serem utilizadas\n",
        "\n",
        "    p_ar = 1.25* 10**(-6)\n",
        "    p_x = 1.03 * 10**(-3)\n",
        "    n1 = 1.7 \n",
        "\n",
        "    #é o 'n' na prova, mas se chamar de n ele vai dar ruim com o n da euler (n de pontos)\n",
        "\n",
        "    b = 420 \n",
        "    r = 2.5\n",
        "    g = 9.78 * 10**(3)\n",
        "\n",
        "    #sabemos que dx/dt = v, e temos a equação pro dv/dt no enunciado\n",
        "    #a fórmula utilizada aqui, foi a fórmula do enunciado\n",
        "    #substituimos v^n ali por x[0] pois define o valor da derivada v no ponto 0\n",
        "    #afinal, o que sabemos, é o valor da função derivada\n",
        "    \n",
        "    return np.array([((p_x - p_ar)/p_ar)*g - b * (x[0]**n1) / (4/3 * np.pi * (r**3)*p_ar)])"
      ],
      "metadata": {
        "id": "x6onSfEJyDre"
      },
      "execution_count": 2,
      "outputs": []
    },
    {
      "cell_type": "code",
      "source": [
        "xi = np.array([0])\n",
        "ti = 0\n",
        "tf = 10**(-7)  #tempo final definido pela questão\n",
        "#para passo de 10^-9, que é h = passo, precisamos de n = 100\n",
        "n = 100\n",
        "#agora chamamos a função euler, tendo definidos os parâmetros, para plotar os pontos(v,t) e gráfico\n",
        "x, t = Euler(f, xi, ti, tf, n)\n",
        "#ajustei o tamanho da figura por questões estéticas\n",
        "plt.figure(figsize = (10,4))\n",
        "plt.title('bubbles v(t) temporal evolution')\n",
        "plt.xlabel('tempo (s)')\n",
        "plt.ylabel('velocity v(t) in mm/s')\n",
        "plt.plot(t,x)\n",
        "plt.grid(True)\n",
        "plt.show()"
      ],
      "metadata": {
        "colab": {
          "base_uri": "https://localhost:8080/",
          "height": 1000
        },
        "id": "jGnxrrmRyVlG",
        "outputId": "be693ce5-aa44-4516-b7ca-45f34ba85e20"
      },
      "execution_count": 3,
      "outputs": [
        {
          "output_type": "stream",
          "name": "stdout",
          "text": [
            "0.0 0.0\n",
            "0.008048940000000001 9.999999999999999e-10\n",
            "0.016096466856012473 1.9999999999999997e-09\n",
            "0.024140816222809378 2.9999999999999996e-09\n",
            "0.03218061279675654 3.9999999999999994e-09\n",
            "0.04021464748826897 4.999999999999999e-09\n",
            "0.04824181621171726 5.999999999999999e-09\n",
            "0.05626109076813044 6.999999999999999e-09\n",
            "0.06427150205591342 7.999999999999999e-09\n",
            "0.0722721292783265 8.999999999999998e-09\n",
            "0.0802620924942749 9.999999999999997e-09\n",
            "0.08824054721017496 1.0999999999999996e-08\n",
            "0.09620668030195824 1.1999999999999995e-08\n",
            "0.10415970684779047 1.2999999999999994e-08\n",
            "0.11209886760895232 1.3999999999999993e-08\n",
            "0.12002342698663077 1.4999999999999992e-08\n",
            "0.1279326713372209 1.599999999999999e-08\n",
            "0.13582590756355037 1.699999999999999e-08\n",
            "0.14370246192235708 1.799999999999999e-08\n",
            "0.15156167900391437 1.8999999999999988e-08\n",
            "0.15940292085055216 1.9999999999999987e-08\n",
            "0.16722556618857007 2.0999999999999986e-08\n",
            "0.17502900975368127 2.1999999999999985e-08\n",
            "0.18281266169431115 2.2999999999999984e-08\n",
            "0.19057594704022798 2.3999999999999983e-08\n",
            "0.19831830522639382 2.4999999999999982e-08\n",
            "0.20603918966379067 2.599999999999998e-08\n",
            "0.2137380673504397 2.699999999999998e-08\n",
            "0.22141441851698995 2.799999999999998e-08\n",
            "0.22906773630217928 2.899999999999998e-08\n",
            "0.23669752645421852 2.999999999999998e-08\n",
            "0.2443033070547577 3.099999999999998e-08\n",
            "0.2518846082625922 3.199999999999998e-08\n",
            "0.25944097207467876 3.2999999999999984e-08\n",
            "0.2669719521023741 3.399999999999999e-08\n",
            "0.2744771133610942 3.499999999999999e-08\n",
            "0.2819560320718343 3.599999999999999e-08\n",
            "0.289408295473193 3.6999999999999994e-08\n",
            "0.29683350164271727 3.7999999999999996e-08\n",
            "0.304231259326532 3.9e-08\n",
            "0.31160118777634654 4e-08\n",
            "0.31894291659303814 4.1e-08\n",
            "0.32625608557610736 4.2000000000000006e-08\n",
            "0.33354034457838294 4.300000000000001e-08\n",
            "0.3407953533654243 4.400000000000001e-08\n",
            "0.3480207814791329 4.500000000000001e-08\n",
            "0.3552163081051376 4.6000000000000015e-08\n",
            "0.3623816219435687 4.700000000000002e-08\n",
            "0.3695164210828758 4.800000000000002e-08\n",
            "0.3766204128763836 4.900000000000002e-08\n",
            "0.3836933138213126 5.0000000000000024e-08\n",
            "0.3907348494400209 5.1000000000000027e-08\n",
            "0.3977447541632492 5.200000000000003e-08\n",
            "0.4047227712151757 5.300000000000003e-08\n",
            "0.411668652500107 5.4000000000000034e-08\n",
            "0.41858215849065133 5.5000000000000036e-08\n",
            "0.42546305811723584 5.600000000000004e-08\n",
            "0.4323111286588452 5.700000000000004e-08\n",
            "0.4391261556348733 5.800000000000004e-08\n",
            "0.44590793269798995 5.9000000000000045e-08\n",
            "0.45265626152793775 6.000000000000005e-08\n",
            "0.45937095172618225 6.100000000000004e-08\n",
            "0.4660518207113489 6.200000000000004e-08\n",
            "0.47269869361538724 6.300000000000003e-08\n",
            "0.47931140318041143 6.400000000000003e-08\n",
            "0.485889789656171 6.500000000000003e-08\n",
            "0.4924337006981135 6.600000000000002e-08\n",
            "0.4989429912660049 6.700000000000002e-08\n",
            "0.5054175235230793 6.800000000000001e-08\n",
            "0.5118571667356934 6.900000000000001e-08\n",
            "0.5182617971734648 7e-08\n",
            "0.5246312980098787 7.1e-08\n",
            "0.5309655592233485 7.2e-08\n",
            "0.5372644774987201 7.299999999999999e-08\n",
            "0.5435279561292118 7.399999999999999e-08\n",
            "0.5497559049187857 7.499999999999998e-08\n",
            "0.5559482400849458 7.599999999999998e-08\n",
            "0.5621048841619621 7.699999999999997e-08\n",
            "0.568225765904522 7.799999999999997e-08\n",
            "0.5743108201918098 7.899999999999997e-08\n",
            "0.5803599879320185 7.999999999999996e-08\n",
            "0.586373215967299 8.099999999999996e-08\n",
            "0.5923504569791515 8.199999999999995e-08\n",
            "0.5982916693942666 8.299999999999995e-08\n",
            "0.604196817290824 8.399999999999994e-08\n",
            "0.6100658703052559 8.499999999999994e-08\n",
            "0.6158988035394863 8.599999999999994e-08\n",
            "0.6216955974686533 8.699999999999993e-08\n",
            "0.6274562378493265 8.799999999999993e-08\n",
            "0.6331807156282286 8.899999999999992e-08\n",
            "0.6388690268514734 8.999999999999992e-08\n",
            "0.6445211725743285 9.099999999999991e-08\n",
            "0.6501371587715176 9.199999999999991e-08\n",
            "0.6557169962480703 9.29999999999999e-08\n",
            "0.661260700550733 9.39999999999999e-08\n",
            "0.6667682918799511 9.49999999999999e-08\n",
            "0.6722397950024345 9.59999999999999e-08\n",
            "0.6776752391643174 9.699999999999989e-08\n",
            "0.6830746580049244 9.799999999999988e-08\n"
          ]
        },
        {
          "output_type": "display_data",
          "data": {
            "image/png": "[encoded data removed]",
            "text/plain": [
              "<Figure size 720x288 with 1 Axes>"
            ]
          },
          "metadata": {
            "needs_background": "light"
          }
        }
      ]
    }
  ]
}