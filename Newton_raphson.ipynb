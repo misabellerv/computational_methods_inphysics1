{
  "nbformat": 4,
  "nbformat_minor": 0,
  "metadata": {
    "colab": {
      "name": "Newton_raphson.ipynb",
      "provenance": []
    },
    "kernelspec": {
      "name": "python3",
      "display_name": "Python 3"
    },
    "language_info": {
      "name": "python"
    }
  },
  "cells": [
    {
      "cell_type": "markdown",
      "source": [
        "## Método de Newton-Raphson"
      ],
      "metadata": {
        "id": "Otigfsp4hWlE"
      }
    },
    {
      "cell_type": "markdown",
      "source": [
        "Aqui vai um rápido código para que você consiga implementar o método computacional de Newton-Raphson. É necessário usar funções bem definidas que possuem raizes com derivadas bem definidas também. A função e a fórmula para a própria derivada é o próprio usuário que define."
      ],
      "metadata": {
        "id": "3GZM9MS4nBLo"
      }
    },
    {
      "cell_type": "code",
      "source": [
        "import numpy as np\n",
        "import matplotlib.pyplot as plt"
      ],
      "metadata": {
        "id": "gQn_5G6ghfSh"
      },
      "execution_count": 1,
      "outputs": []
    },
    {
      "cell_type": "markdown",
      "source": [
        "Você pode usar qualquer função bem definida que necessariamente tenha uma raiz bem definida também"
      ],
      "metadata": {
        "id": "hsimaI37k-em"
      }
    },
    {
      "cell_type": "markdown",
      "source": [
        "Aqui estarei usando o exemplo da função: \\\\\n",
        " $f(x) = exp(-x) - sin(\\dfrac{\\pi x}{2})$ \\\\\n",
        " Cuja derivada é: \\\\\n",
        " $\\dfrac{df(x)}{dx} = -exp(-x) - (\\dfrac{\\pi}{2})cos(\\dfrac{\\pi}{2})$"
      ],
      "metadata": {
        "id": "2LOUrqSdlNQV"
      }
    },
    {
      "cell_type": "code",
      "source": [
        "def f1(x):\n",
        "  'Função a qual você quer encontrar a primeira raiz da equação'\n",
        "  return np.exp(-x) - np.sin(np.pi * x /2)\n",
        "\n",
        "\n",
        "def df1(x):\n",
        "  'Função derivada de f1'\n",
        "  return  - np.exp(-x) - np.cos(np.pi *x /2)*(np.pi/2)"
      ],
      "metadata": {
        "id": "Pwf_Kau0htTL"
      },
      "execution_count": 6,
      "outputs": []
    },
    {
      "cell_type": "code",
      "source": [
        "def NR_raiz(x0, precisao, delta, limite):\n",
        "  Nit = 0\n",
        "  '''operação de newton para primeira função '''\n",
        "  while(delta >precisao and Nit < limite):\n",
        "    xi = x0 - f1(x0)/df1(x0)\n",
        "    delta = np.fabs(xi-x0)\n",
        "    x0 = xi\n",
        "    Nit = Nit + 1\n",
        "  print(\"primeira raiz da equação =\", xi,\"\\n iterações =\", Nit)"
      ],
      "metadata": {
        "id": "jWuXgdPUneQ0"
      },
      "execution_count": 20,
      "outputs": []
    },
    {
      "cell_type": "markdown",
      "source": [
        "É preciso observar o gráfico da função tal que possamos fazer um chute necessário para o método"
      ],
      "metadata": {
        "id": "SAGTqTGlkhef"
      }
    },
    {
      "cell_type": "code",
      "source": [
        "x = np.arange(0, 4*np.pi, 0.1)\n",
        "y = np.exp(-x) - np.sin(np.pi*x/2)\n",
        "plt.plot(x,y)\n",
        "plt.grid(True)\n",
        "plt.xlabel('x')\n",
        "plt.ylabel('f(x)')\n",
        "plt.title('(NR GRAPH)')\n",
        "plt.show()"
      ],
      "metadata": {
        "colab": {
          "base_uri": "https://localhost:8080/",
          "height": 295
        },
        "id": "TO4iNiAci32m",
        "outputId": "1b037b30-55c3-46d8-a472-abb4cb458d5b"
      },
      "execution_count": 15,
      "outputs": [
        {
          "output_type": "display_data",
          "data": {
            "image/png": "[encoded data removed]",
            "text/plain": [
              "<Figure size 432x288 with 1 Axes>"
            ]
          },
          "metadata": {
            "needs_background": "light"
          }
        }
      ]
    },
    {
      "cell_type": "markdown",
      "source": [
        "Um chute inicial, a partir do gráfico, é feito. definimos por $x_{0}$ "
      ],
      "metadata": {
        "id": "F17Wdw7JmcBp"
      }
    },
    {
      "cell_type": "code",
      "source": [
        "NR_raiz(0.1, 1.e-7, 1, 100)"
      ],
      "metadata": {
        "colab": {
          "base_uri": "https://localhost:8080/"
        },
        "id": "Kp9L_SNHnZaa",
        "outputId": "6c5bfe24-5b08-4ec9-bc5e-981a286fc141"
      },
      "execution_count": 21,
      "outputs": [
        {
          "output_type": "stream",
          "name": "stdout",
          "text": [
            "primeira raiz da equação = -4.756677167510871 \n",
            " iterações = 100\n"
          ]
        }
      ]
    }
  ]
}