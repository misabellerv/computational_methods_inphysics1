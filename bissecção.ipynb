{
  "nbformat": 4,
  "nbformat_minor": 0,
  "metadata": {
    "colab": {
      "name": "bissecção.ipynb",
      "provenance": []
    },
    "kernelspec": {
      "name": "python3",
      "display_name": "Python 3"
    },
    "language_info": {
      "name": "python"
    }
  },
  "cells": [
    {
      "cell_type": "markdown",
      "source": [
        "## Método da Bissecção de Newton\n",
        "Aqui vai um programa bem prático para obter raizes de funções pelo método da bissecção de Newton! "
      ],
      "metadata": {
        "id": "cSKE2yEQpSsW"
      }
    },
    {
      "cell_type": "code",
      "execution_count": 1,
      "metadata": {
        "id": "3k0ivsvvovnt"
      },
      "outputs": [],
      "source": [
        "import numpy as np "
      ]
    },
    {
      "cell_type": "code",
      "source": [
        "def f(x):\n",
        "  'Defina aqui a função a qual quer encontrar a raiz'\n",
        "  return np.exp(-x) - np.sin(np.pi*x/2)\n",
        "\n",
        "\n",
        "def bisection(xmin,xmax,limite,precisao):\n",
        "  Nit = 0\n",
        "  if(f(xmin)*f(xmax) > 0):\n",
        "      print(\"Intervalo indesejado!\")\n",
        "  else:\n",
        "      while(abs(xmax - xmin) > precisao and Nit < limite):\n",
        "          xmedio = (xmin + xmax)/2\n",
        "          if f(xmin) * f(xmedio) < 0:\n",
        "              xmax = xmedio\n",
        "          else:\n",
        "              xmin = xmedio\n",
        "          Nit = Nit + 1\n",
        "  print(\"Raiz encontrada =\", xmedio, \"\\n número de iterações =\", Nit)"
      ],
      "metadata": {
        "id": "1N0eVn3NpyEb"
      },
      "execution_count": 6,
      "outputs": []
    },
    {
      "cell_type": "code",
      "source": [
        "bisection(0.0,0.75,100,1.e-7)"
      ],
      "metadata": {
        "colab": {
          "base_uri": "https://localhost:8080/"
        },
        "id": "pePqRF-srRDr",
        "outputId": "7c2b2c29-693e-4e4b-904e-8c37def3b358"
      },
      "execution_count": 7,
      "outputs": [
        {
          "output_type": "stream",
          "name": "stdout",
          "text": [
            "Raiz encontrada = 0.4435734450817108 \n",
            " número de iterações = 23\n"
          ]
        }
      ]
    }
  ]
}